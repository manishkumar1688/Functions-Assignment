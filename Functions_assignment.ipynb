{
  "nbformat": 4,
  "nbformat_minor": 0,
  "metadata": {
    "colab": {
      "provenance": []
    },
    "kernelspec": {
      "name": "python3",
      "display_name": "Python 3"
    },
    "language_info": {
      "name": "python"
    }
  },
  "cells": [
    {
      "cell_type": "markdown",
      "source": [
        "# **THEORY QUESTION**"
      ],
      "metadata": {
        "id": "eiDUMjj1eYFc"
      }
    },
    {
      "cell_type": "code",
      "source": [],
      "metadata": {
        "id": "Faz_rAmaeVby"
      },
      "execution_count": null,
      "outputs": []
    },
    {
      "cell_type": "markdown",
      "source": [
        "**Q.1. What is the difference between a function and a method in python?**\n",
        "    -\n",
        "\n",
        "\n",
        "\n",
        "\n",
        "**Q.2. Explain the concept of function arguments and parameters in python.**\n",
        "    - In Function, parameters are variables that acts as a placeholder for the values. It is also called as formal argument.\n",
        "\n",
        "    a. parameters is used in paranthesis\n",
        "    b. No. of parameters are fixed in a function\n",
        "    c. parameters can hold default values\n",
        "    d. parameters can't change themselves\n",
        "\n",
        "    - Argumets are values that are passed to the function when it is called.It is also called as actual argument.\n",
        "    a. arguments are placed as values while calling the function\n",
        "    b. no. of arguments are not fixed, it can vary.\n",
        "    c. arguments can't hols default values.\n",
        "    d. arguments can change as different values are passed.\n",
        "\n",
        "    Ex:-\n",
        "    "
      ],
      "metadata": {
        "id": "KybubeHmjfFI"
      }
    },
    {
      "cell_type": "code",
      "source": [
        "\n",
        "def cube_number(x, y=5): # here x and y both are parameters and cant change themselves\n",
        "  cube = []\n",
        "  for i in x:\n",
        "      cube.append(i**3 +y)\n",
        "  return cube\n"
      ],
      "metadata": {
        "id": "vTJlq2TmxNfn"
      },
      "execution_count": null,
      "outputs": []
    },
    {
      "cell_type": "code",
      "source": [
        "cube_number([2,3]) # 2 & 3 are argumets which can change as per use so its actual argument"
      ],
      "metadata": {
        "id": "PWc_AiXQjcTW",
        "colab": {
          "base_uri": "https://localhost:8080/"
        },
        "outputId": "36eb0971-11eb-49e4-ce60-2ae65482aea7"
      },
      "execution_count": null,
      "outputs": [
        {
          "output_type": "execute_result",
          "data": {
            "text/plain": [
              "[13, 32]"
            ]
          },
          "metadata": {},
          "execution_count": 14
        }
      ]
    },
    {
      "cell_type": "markdown",
      "source": [
        "**Q.3. What are the diereent ways to define and call a function in python?**\n",
        "  - These are different ways to define a function:\n",
        "   #A. def number():\n",
        "   #B. def number(x,y):\n",
        "   #C. def number_square(x,y=5):\n",
        "   #D. lambda x = x**2,number\n",
        "  - These are different ways to call a function:\n",
        "   #a. function() - Directly calling the finction\n",
        "   #B. function(3,4) - caling the function by passing the argument\n",
        "   #C.\n",
        "\n"
      ],
      "metadata": {
        "id": "atxLHwyN4x6y"
      }
    },
    {
      "cell_type": "code",
      "source": [
        "# Example 1:\n",
        "def even_odd(x):\n",
        "  if x%2 == 0:\n",
        "    return \"Even\"\n",
        "  else:\n",
        "    return \"Odd\"\n"
      ],
      "metadata": {
        "id": "JCB0JMC4VtpG"
      },
      "execution_count": null,
      "outputs": []
    },
    {
      "cell_type": "code",
      "source": [
        "even_odd(5) # Directly calling the function by paiing thee argument"
      ],
      "metadata": {
        "colab": {
          "base_uri": "https://localhost:8080/",
          "height": 35
        },
        "id": "lmVAMauhWJs-",
        "outputId": "2174c05b-0153-44ab-fe5d-a1e2b49ac148"
      },
      "execution_count": null,
      "outputs": [
        {
          "output_type": "execute_result",
          "data": {
            "text/plain": [
              "'Odd'"
            ],
            "application/vnd.google.colaboratory.intrinsic+json": {
              "type": "string"
            }
          },
          "metadata": {},
          "execution_count": 2
        }
      ]
    },
    {
      "cell_type": "code",
      "source": [
        "# Example 2:\n",
        "def even_square(x):\n",
        "  if x %2 == 0:\n",
        "    return x**2\n",
        "  else:\n",
        "      return x\n",
        "x = 6,7,8,9\n",
        "y = [even_square(item) for item in x]\n",
        "print(\"this is result:\",y)\n"
      ],
      "metadata": {
        "colab": {
          "base_uri": "https://localhost:8080/"
        },
        "id": "kQw0oYh9WN4s",
        "outputId": "50da536e-bebf-49e7-c34e-7c060b8452bf"
      },
      "execution_count": null,
      "outputs": [
        {
          "output_type": "stream",
          "name": "stdout",
          "text": [
            "this is result: [36, 7, 64, 9]\n"
          ]
        }
      ]
    },
    {
      "cell_type": "code",
      "source": [
        "y   # Direct calling of function"
      ],
      "metadata": {
        "colab": {
          "base_uri": "https://localhost:8080/"
        },
        "id": "cm5nmYavYUSE",
        "outputId": "43d27bd5-c635-4233-8239-ba8cd3e81a0a"
      },
      "execution_count": null,
      "outputs": [
        {
          "output_type": "execute_result",
          "data": {
            "text/plain": [
              "[36, 7, 64, 9]"
            ]
          },
          "metadata": {},
          "execution_count": 15
        }
      ]
    },
    {
      "cell_type": "markdown",
      "source": [
        "\n",
        "# -  \n"
      ],
      "metadata": {
        "id": "Am2BL0jNb8e5"
      }
    },
    {
      "cell_type": "markdown",
      "source": [
        "**Q4. What is the purpose of the return statement in a python function?**\n",
        "\n",
        "Return statement ends a function and sends back values to the caller. It is used to return the results of function operation.\n"
      ],
      "metadata": {
        "id": "DxgUQ9WloM_q"
      }
    },
    {
      "cell_type": "code",
      "source": [
        "# Example\n",
        "def sum_numbers(x,y=5):\n",
        "  result = x + y\n",
        "  return result   # function ends here and sends back values to the call function"
      ],
      "metadata": {
        "id": "Wxx4-aqmqfYD"
      },
      "execution_count": null,
      "outputs": []
    },
    {
      "cell_type": "code",
      "source": [
        "sum_numbers(2)"
      ],
      "metadata": {
        "colab": {
          "base_uri": "https://localhost:8080/"
        },
        "id": "cgYrQbgKsLna",
        "outputId": "f52c8c54-de0f-426f-8cef-73a605b25ead"
      },
      "execution_count": null,
      "outputs": [
        {
          "output_type": "execute_result",
          "data": {
            "text/plain": [
              "7"
            ]
          },
          "metadata": {},
          "execution_count": 21
        }
      ]
    },
    {
      "cell_type": "markdown",
      "source": [
        "**Q.5.what are iterators in python and how do they differ from iterable in python?**\n",
        "\n",
        " - **Iterable**\n",
        " - It is any python object/sequetial structure/data structure that is capable of returning its members one at a time\n",
        "permitting it to be iterated over in a for loop\n",
        "\n",
        "     - So we can say iterable shows whether a particulat data / sequence structure is iterable or not\n",
        "     whereas, iterator actually applies on each of the element present inside the data structure.\n",
        "\n",
        "# Example :- Lists, Tuples\n"
      ],
      "metadata": {
        "id": "Rt7a9I-ntpS3"
      }
    },
    {
      "cell_type": "code",
      "source": [
        "#Iterable >>\n",
        "list1 = [12,35,'ramesh','mahesh','shubham'] # list1 is **iterable** data structure\n",
        "for l in list1:\n",
        "  print(l)\n"
      ],
      "metadata": {
        "id": "k-XU16A0sQkN",
        "colab": {
          "base_uri": "https://localhost:8080/"
        },
        "outputId": "c795db61-d804-4384-a4be-82eca5a1a02f"
      },
      "execution_count": null,
      "outputs": [
        {
          "output_type": "stream",
          "name": "stdout",
          "text": [
            "12\n",
            "35\n",
            "ramesh\n",
            "mahesh\n",
            "shubham\n"
          ]
        }
      ]
    },
    {
      "cell_type": "code",
      "source": [
        "#Iterator\n",
        "list1 = [12,35,'ramesh','mahesh','shubham'] #\n",
        "for l in list1:\n",
        "  print(l)"
      ],
      "metadata": {
        "colab": {
          "base_uri": "https://localhost:8080/"
        },
        "id": "JUNs28F6nZtp",
        "outputId": "084852d3-094e-4c31-a227-58df234b52fe"
      },
      "execution_count": null,
      "outputs": [
        {
          "output_type": "stream",
          "name": "stdout",
          "text": [
            "12\n",
            "35\n",
            "ramesh\n",
            "mahesh\n",
            "shubham\n"
          ]
        }
      ]
    },
    {
      "cell_type": "code",
      "source": [
        "iter(list1)"
      ],
      "metadata": {
        "colab": {
          "base_uri": "https://localhost:8080/"
        },
        "id": "bIw6EklBpSrb",
        "outputId": "1fdd2c54-3afd-4447-fff1-0474a5bc2260"
      },
      "execution_count": null,
      "outputs": [
        {
          "output_type": "execute_result",
          "data": {
            "text/plain": [
              "<list_iterator at 0x79c37edf28c0>"
            ]
          },
          "metadata": {},
          "execution_count": 5
        }
      ]
    },
    {
      "cell_type": "code",
      "source": [
        "r = 'manish'\n",
        "iter(r)"
      ],
      "metadata": {
        "colab": {
          "base_uri": "https://localhost:8080/"
        },
        "id": "pFglwVdtpllW",
        "outputId": "83867ab9-73b1-4d21-b26f-c21fe1a2e9fb"
      },
      "execution_count": null,
      "outputs": [
        {
          "output_type": "execute_result",
          "data": {
            "text/plain": [
              "<str_ascii_iterator at 0x79c37ee10640>"
            ]
          },
          "metadata": {},
          "execution_count": 7
        }
      ]
    },
    {
      "cell_type": "code",
      "source": [
        "r = \"manish\"\n",
        "for i in r:\n",
        "  print(i)"
      ],
      "metadata": {
        "colab": {
          "base_uri": "https://localhost:8080/"
        },
        "id": "r1Cnq2-kqD1P",
        "outputId": "32012419-b062-4f07-c322-d611c094ba22"
      },
      "execution_count": null,
      "outputs": [
        {
          "output_type": "stream",
          "name": "stdout",
          "text": [
            "m\n",
            "a\n",
            "n\n",
            "i\n",
            "s\n",
            "h\n"
          ]
        }
      ]
    },
    {
      "cell_type": "code",
      "source": [
        "iter(r)"
      ],
      "metadata": {
        "colab": {
          "base_uri": "https://localhost:8080/"
        },
        "id": "PR9LOlUHqOBu",
        "outputId": "92324490-5467-420d-f6ee-343d76259ec2"
      },
      "execution_count": null,
      "outputs": [
        {
          "output_type": "execute_result",
          "data": {
            "text/plain": [
              "<str_ascii_iterator at 0x79c37ed57a90>"
            ]
          },
          "metadata": {},
          "execution_count": 10
        }
      ]
    },
    {
      "cell_type": "code",
      "source": [
        "a = iter(r)\n",
        "next(a)    # iterator apply on all the elements of an iterable and returning its value through loop one by one."
      ],
      "metadata": {
        "colab": {
          "base_uri": "https://localhost:8080/",
          "height": 35
        },
        "id": "W5hxwgb1qQT5",
        "outputId": "71f57a05-cb11-4f39-e222-8cfe0869843e"
      },
      "execution_count": null,
      "outputs": [
        {
          "output_type": "execute_result",
          "data": {
            "text/plain": [
              "'m'"
            ],
            "application/vnd.google.colaboratory.intrinsic+json": {
              "type": "string"
            }
          },
          "metadata": {},
          "execution_count": 11
        }
      ]
    },
    {
      "cell_type": "code",
      "source": [
        "next(a)"
      ],
      "metadata": {
        "colab": {
          "base_uri": "https://localhost:8080/",
          "height": 35
        },
        "id": "W7BPGUgrqY4W",
        "outputId": "0bc6d424-f3f9-43a6-c05a-f015fd5a45c8"
      },
      "execution_count": null,
      "outputs": [
        {
          "output_type": "execute_result",
          "data": {
            "text/plain": [
              "'a'"
            ],
            "application/vnd.google.colaboratory.intrinsic+json": {
              "type": "string"
            }
          },
          "metadata": {},
          "execution_count": 12
        }
      ]
    },
    {
      "cell_type": "code",
      "source": [
        "next(a)"
      ],
      "metadata": {
        "colab": {
          "base_uri": "https://localhost:8080/",
          "height": 35
        },
        "id": "BpJNjMByqbVE",
        "outputId": "11182897-21a2-4ebb-83ac-fb7b4d68d17c"
      },
      "execution_count": null,
      "outputs": [
        {
          "output_type": "execute_result",
          "data": {
            "text/plain": [
              "'n'"
            ],
            "application/vnd.google.colaboratory.intrinsic+json": {
              "type": "string"
            }
          },
          "metadata": {},
          "execution_count": 13
        }
      ]
    },
    {
      "cell_type": "code",
      "source": [
        "next(a)"
      ],
      "metadata": {
        "colab": {
          "base_uri": "https://localhost:8080/",
          "height": 35
        },
        "id": "REMMakwBqdKP",
        "outputId": "fb729069-0e48-4ee4-c148-5ff54d9d31eb"
      },
      "execution_count": null,
      "outputs": [
        {
          "output_type": "execute_result",
          "data": {
            "text/plain": [
              "'i'"
            ],
            "application/vnd.google.colaboratory.intrinsic+json": {
              "type": "string"
            }
          },
          "metadata": {},
          "execution_count": 14
        }
      ]
    },
    {
      "cell_type": "code",
      "source": [
        "next(a)"
      ],
      "metadata": {
        "colab": {
          "base_uri": "https://localhost:8080/",
          "height": 35
        },
        "id": "Y1XSRSqNqfUc",
        "outputId": "dd7e9591-043b-4ca3-e6ae-692cf1b2e504"
      },
      "execution_count": null,
      "outputs": [
        {
          "output_type": "execute_result",
          "data": {
            "text/plain": [
              "'s'"
            ],
            "application/vnd.google.colaboratory.intrinsic+json": {
              "type": "string"
            }
          },
          "metadata": {},
          "execution_count": 15
        }
      ]
    },
    {
      "cell_type": "code",
      "source": [
        "next(a) # iterator element is over hence iteration also stops here. If you iterate furthur will through an error."
      ],
      "metadata": {
        "colab": {
          "base_uri": "https://localhost:8080/",
          "height": 35
        },
        "id": "DhM4SUdMqgyJ",
        "outputId": "0df74e8d-24cd-4ae3-fcc0-fc2beb9bd796"
      },
      "execution_count": null,
      "outputs": [
        {
          "output_type": "execute_result",
          "data": {
            "text/plain": [
              "'h'"
            ],
            "application/vnd.google.colaboratory.intrinsic+json": {
              "type": "string"
            }
          },
          "metadata": {},
          "execution_count": 16
        }
      ]
    },
    {
      "cell_type": "code",
      "source": [
        "next(a)"
      ],
      "metadata": {
        "colab": {
          "base_uri": "https://localhost:8080/",
          "height": 141
        },
        "id": "gyN6Y2lZqiSZ",
        "outputId": "de97ca45-7070-4b9f-df81-b395af767872"
      },
      "execution_count": null,
      "outputs": [
        {
          "output_type": "error",
          "ename": "StopIteration",
          "evalue": "",
          "traceback": [
            "\u001b[0;31m---------------------------------------------------------------------------\u001b[0m",
            "\u001b[0;31mStopIteration\u001b[0m                             Traceback (most recent call last)",
            "\u001b[0;32m<ipython-input-17-15841f3f11d4>\u001b[0m in \u001b[0;36m<cell line: 0>\u001b[0;34m()\u001b[0m\n\u001b[0;32m----> 1\u001b[0;31m \u001b[0mnext\u001b[0m\u001b[0;34m(\u001b[0m\u001b[0ma\u001b[0m\u001b[0;34m)\u001b[0m\u001b[0;34m\u001b[0m\u001b[0;34m\u001b[0m\u001b[0m\n\u001b[0m",
            "\u001b[0;31mStopIteration\u001b[0m: "
          ]
        }
      ]
    },
    {
      "cell_type": "markdown",
      "source": [
        "**Q6. Explain the concept of Generators in python and how they are defined?**\n",
        "  - Generators is also similar to iterators and. It is also known for efficient management of memory usage on RAM. instead of printing all the result at once like in regular function, it displays all the element as and when called one by one by the function using >> yield\n",
        "  And elements are generated by using >> next()\n",
        "\n",
        "  for Ex:-"
      ],
      "metadata": {
        "id": "0RqgYgESsUii"
      }
    },
    {
      "cell_type": "code",
      "source": [
        "\n",
        "def creater1():\n",
        "  i = 1\n",
        "  while i <=200:\n",
        "    yield i\n",
        "    i += 1\n",
        "print(creater1())\n",
        "x = creater1()\n"
      ],
      "metadata": {
        "colab": {
          "base_uri": "https://localhost:8080/"
        },
        "id": "0iymhnlEqkHn",
        "outputId": "098b2023-fe4b-490b-b605-3b80f645a157"
      },
      "execution_count": null,
      "outputs": [
        {
          "output_type": "stream",
          "name": "stdout",
          "text": [
            "<generator object creater1 at 0x79c362688dc0>\n"
          ]
        }
      ]
    },
    {
      "cell_type": "code",
      "source": [
        "print(next(x))"
      ],
      "metadata": {
        "colab": {
          "base_uri": "https://localhost:8080/"
        },
        "id": "vXxyZQmL0sey",
        "outputId": "afa4e977-ebcb-41d5-cbc8-e34c4de51e9c"
      },
      "execution_count": null,
      "outputs": [
        {
          "output_type": "stream",
          "name": "stdout",
          "text": [
            "1\n"
          ]
        }
      ]
    },
    {
      "cell_type": "code",
      "source": [
        "print(next(x))"
      ],
      "metadata": {
        "colab": {
          "base_uri": "https://localhost:8080/"
        },
        "id": "ah68iMGg2UA8",
        "outputId": "9a53e7c6-a05f-4386-b9b6-589f9b56c5d0"
      },
      "execution_count": null,
      "outputs": [
        {
          "output_type": "stream",
          "name": "stdout",
          "text": [
            "2\n"
          ]
        }
      ]
    },
    {
      "cell_type": "code",
      "source": [
        "print(next(x))"
      ],
      "metadata": {
        "colab": {
          "base_uri": "https://localhost:8080/"
        },
        "id": "wYZj1KLR2XJ9",
        "outputId": "32dcebc8-06e5-45b2-c42a-ab6a2f93d2b9"
      },
      "execution_count": null,
      "outputs": [
        {
          "output_type": "stream",
          "name": "stdout",
          "text": [
            "3\n"
          ]
        }
      ]
    },
    {
      "cell_type": "code",
      "source": [],
      "metadata": {
        "id": "C1IEDQpI51-5"
      },
      "execution_count": null,
      "outputs": []
    },
    {
      "cell_type": "code",
      "source": [],
      "metadata": {
        "id": "Lh2IsotL52dZ"
      },
      "execution_count": null,
      "outputs": []
    },
    {
      "cell_type": "code",
      "source": [
        "print(list(x)) # So, Instead of printing these many data one by one fetching the data is more efficient."
      ],
      "metadata": {
        "colab": {
          "base_uri": "https://localhost:8080/"
        },
        "id": "FceW4rT-2YTX",
        "outputId": "8bcdd576-cee5-46ff-f62a-09e4adc0a962"
      },
      "execution_count": null,
      "outputs": [
        {
          "output_type": "stream",
          "name": "stdout",
          "text": [
            "[4, 5, 6, 7, 8, 9, 10, 11, 12, 13, 14, 15, 16, 17, 18, 19, 20, 21, 22, 23, 24, 25, 26, 27, 28, 29, 30, 31, 32, 33, 34, 35, 36, 37, 38, 39, 40, 41, 42, 43, 44, 45, 46, 47, 48, 49, 50, 51, 52, 53, 54, 55, 56, 57, 58, 59, 60, 61, 62, 63, 64, 65, 66, 67, 68, 69, 70, 71, 72, 73, 74, 75, 76, 77, 78, 79, 80, 81, 82, 83, 84, 85, 86, 87, 88, 89, 90, 91, 92, 93, 94, 95, 96, 97, 98, 99, 100, 101, 102, 103, 104, 105, 106, 107, 108, 109, 110, 111, 112, 113, 114, 115, 116, 117, 118, 119, 120, 121, 122, 123, 124, 125, 126, 127, 128, 129, 130, 131, 132, 133, 134, 135, 136, 137, 138, 139, 140, 141, 142, 143, 144, 145, 146, 147, 148, 149, 150, 151, 152, 153, 154, 155, 156, 157, 158, 159, 160, 161, 162, 163, 164, 165, 166, 167, 168, 169, 170, 171, 172, 173, 174, 175, 176, 177, 178, 179, 180, 181, 182, 183, 184, 185, 186, 187, 188, 189, 190, 191, 192, 193, 194, 195, 196, 197, 198, 199, 200]\n"
          ]
        }
      ]
    },
    {
      "cell_type": "code",
      "source": [
        "import sys"
      ],
      "metadata": {
        "id": "tPh_Acfy2cId"
      },
      "execution_count": null,
      "outputs": []
    },
    {
      "cell_type": "code",
      "source": [
        "z = sys.getsizeof(x)"
      ],
      "metadata": {
        "id": "drTDG2Eg3Uaq"
      },
      "execution_count": null,
      "outputs": []
    },
    {
      "cell_type": "code",
      "source": [
        "print(z)"
      ],
      "metadata": {
        "colab": {
          "base_uri": "https://localhost:8080/"
        },
        "id": "nMlvMYSW3a9h",
        "outputId": "20878c89-f4ee-479c-c2c8-6b2174e532e8"
      },
      "execution_count": null,
      "outputs": [
        {
          "output_type": "stream",
          "name": "stdout",
          "text": [
            "192\n"
          ]
        }
      ]
    },
    {
      "cell_type": "markdown",
      "source": [
        "**Q7. What are the advantages of using generators over regular function?**\n",
        "\n",
        "   - regular function occupies more memory space on RAM vice versa Generators.\n",
        "   - Generators gives option of calling the elements individually unlike regular function\n",
        "   - Generators is used when large amount of elements involved and requires a particular set of data to be called as and when required, but it is difficult to do the same in a regular function.\n",
        "\n",
        "   Generators has less execution time,computation and less calculation as well in comparision with a regular function.\n",
        "\n",
        "   for EX:-"
      ],
      "metadata": {
        "id": "JiNVs7Rs4Ugv"
      }
    },
    {
      "cell_type": "code",
      "source": [
        "# Regular function\n",
        "def square (n):\n",
        "    result = []\n",
        "    for i in n:\n",
        "        result.append(i**2)\n",
        "    return result\n",
        "square([5,10])  # Regular function display the result at once  and not one by one like generator."
      ],
      "metadata": {
        "colab": {
          "base_uri": "https://localhost:8080/"
        },
        "id": "KPen8ZxqSjS_",
        "outputId": "c8e8a780-c094-433c-dcbd-06a9bab5fc21"
      },
      "execution_count": null,
      "outputs": [
        {
          "output_type": "execute_result",
          "data": {
            "text/plain": [
              "[25, 100]"
            ]
          },
          "metadata": {},
          "execution_count": 10
        }
      ]
    },
    {
      "cell_type": "code",
      "source": [],
      "metadata": {
        "id": "Mrk0qQwQ3B4l"
      },
      "execution_count": null,
      "outputs": []
    },
    {
      "cell_type": "code",
      "source": [
        "#Generator function\n",
        "def cube_generator (n):\n",
        "    for i in range(n):\n",
        "       yield(i**3)\n",
        "cube_generator (3)"
      ],
      "metadata": {
        "colab": {
          "base_uri": "https://localhost:8080/"
        },
        "id": "mBVdoZ6mSj0_",
        "outputId": "3fe13ac8-e085-4163-8048-04325ad0d09a"
      },
      "execution_count": null,
      "outputs": [
        {
          "output_type": "execute_result",
          "data": {
            "text/plain": [
              "<generator object cube_generator at 0x7928617e7510>"
            ]
          },
          "metadata": {},
          "execution_count": 3
        }
      ]
    },
    {
      "cell_type": "code",
      "source": [
        "gen = cube_generator (5)\n",
        "next(gen)"
      ],
      "metadata": {
        "colab": {
          "base_uri": "https://localhost:8080/"
        },
        "id": "EtKfzFx_Sj9j",
        "outputId": "5eebee7a-3a26-4540-e80c-b5a14a845cee"
      },
      "execution_count": null,
      "outputs": [
        {
          "output_type": "execute_result",
          "data": {
            "text/plain": [
              "0"
            ]
          },
          "metadata": {},
          "execution_count": 4
        }
      ]
    },
    {
      "cell_type": "code",
      "source": [
        "next(gen)"
      ],
      "metadata": {
        "colab": {
          "base_uri": "https://localhost:8080/"
        },
        "id": "EdZrSDHbSkF_",
        "outputId": "3c9b8451-5fd7-4828-ed4a-0d090ec02c8f"
      },
      "execution_count": null,
      "outputs": [
        {
          "output_type": "execute_result",
          "data": {
            "text/plain": [
              "1"
            ]
          },
          "metadata": {},
          "execution_count": 5
        }
      ]
    },
    {
      "cell_type": "code",
      "source": [
        "next(gen)"
      ],
      "metadata": {
        "colab": {
          "base_uri": "https://localhost:8080/"
        },
        "id": "NsnsHd2uSkMQ",
        "outputId": "07971a73-a7f0-40eb-9b82-7457066e54d8"
      },
      "execution_count": null,
      "outputs": [
        {
          "output_type": "execute_result",
          "data": {
            "text/plain": [
              "8"
            ]
          },
          "metadata": {},
          "execution_count": 6
        }
      ]
    },
    {
      "cell_type": "code",
      "source": [
        "next(gen)"
      ],
      "metadata": {
        "colab": {
          "base_uri": "https://localhost:8080/"
        },
        "id": "AnTVTLZhSkR5",
        "outputId": "b7074fdc-a74b-41ac-b11f-a43197d70a91"
      },
      "execution_count": null,
      "outputs": [
        {
          "output_type": "execute_result",
          "data": {
            "text/plain": [
              "27"
            ]
          },
          "metadata": {},
          "execution_count": 7
        }
      ]
    },
    {
      "cell_type": "code",
      "source": [
        "next(gen) # generator function gives option to call the function one by one"
      ],
      "metadata": {
        "colab": {
          "base_uri": "https://localhost:8080/"
        },
        "id": "FV0p8fSXSkW2",
        "outputId": "dd54fd72-fdb4-4f37-85d2-45f444130c47"
      },
      "execution_count": null,
      "outputs": [
        {
          "output_type": "execute_result",
          "data": {
            "text/plain": [
              "64"
            ]
          },
          "metadata": {},
          "execution_count": 8
        }
      ]
    },
    {
      "cell_type": "markdown",
      "source": [
        "**Q8. What is a lambda function in python and when is it typically used?**\n",
        "    - lambda function is a small anonymous function that is used for simple one time operation, syntax of lambd afunction is >> lambda argument : expression,function >>\n",
        "\n",
        "    - It is typically used in data science, functional programming, simple mathematical calculation and brief programming for small period of time to manipulate the data quickly.\n",
        "\n",
        "    - for EX :-"
      ],
      "metadata": {
        "id": "BVL-jhCy3Yc8"
      }
    },
    {
      "cell_type": "code",
      "source": [
        "sq = lambda x: x**2 # So you can see this lambda function is just one liner code\n",
        "sq(5)"
      ],
      "metadata": {
        "colab": {
          "base_uri": "https://localhost:8080/"
        },
        "id": "5n17TQJgSkf3",
        "outputId": "556e6051-534b-442a-e129-49d290094829"
      },
      "execution_count": null,
      "outputs": [
        {
          "output_type": "execute_result",
          "data": {
            "text/plain": [
              "25"
            ]
          },
          "metadata": {},
          "execution_count": 11
        }
      ]
    },
    {
      "cell_type": "code",
      "source": [
        "def sq(n):     # So you can see, just to get the same result as above we need to write three line code function.\n",
        "  return n**2\n",
        "t = sq(6)"
      ],
      "metadata": {
        "id": "IX0B6ttLSkkG"
      },
      "execution_count": null,
      "outputs": []
    },
    {
      "cell_type": "code",
      "source": [
        "t"
      ],
      "metadata": {
        "colab": {
          "base_uri": "https://localhost:8080/"
        },
        "id": "LV5_iB-MSkoS",
        "outputId": "fcb0d6dd-5bcd-4b0d-8300-b7e3c23c3ae0"
      },
      "execution_count": null,
      "outputs": [
        {
          "output_type": "execute_result",
          "data": {
            "text/plain": [
              "36"
            ]
          },
          "metadata": {},
          "execution_count": 17
        }
      ]
    },
    {
      "cell_type": "markdown",
      "source": [
        "**Q9. Explain the purpose and the usage of the 'map() function in python.**\n",
        "    - Map in Python is a function that works as an iterator to return a result after applying a function to every item of an iterable (tuple, lists, etc.). It is used when you want to apply a single transformation function to all the iterable elements.\n",
        "\n",
        "    - Usage of Map() function\n",
        "\n",
        "    - Pass the iterable and function as arguments to the map() function\n",
        "    - Use the map() function with a lambda expression to create an anonymous    function in a single line of code\n",
        "    - Convert the map object to a sequence object, such as a list or tuple,\n",
        "      using their factory functions\n",
        "\n",
        "      for Ex:-\n",
        "      "
      ],
      "metadata": {
        "id": "iYo7bjuh7wU-"
      }
    },
    {
      "cell_type": "code",
      "source": [
        "a = [12,23,45]\n",
        "def square(a):\n",
        "    mult = []\n",
        "    for i in a:\n",
        "        mult.append(i*2)\n",
        "    return mult"
      ],
      "metadata": {
        "id": "aS9QbWJTSksE"
      },
      "execution_count": null,
      "outputs": []
    },
    {
      "cell_type": "code",
      "source": [
        "square(a)"
      ],
      "metadata": {
        "colab": {
          "base_uri": "https://localhost:8080/"
        },
        "id": "GgcZpEm1-utX",
        "outputId": "0e42991c-482d-4535-cb50-cc9c694be8fc"
      },
      "execution_count": null,
      "outputs": [
        {
          "output_type": "execute_result",
          "data": {
            "text/plain": [
              "[24, 46, 90]"
            ]
          },
          "metadata": {},
          "execution_count": 20
        }
      ]
    },
    {
      "cell_type": "code",
      "source": [
        "def add(x):\n",
        "        return x +5\n",
        "list(map(add,a))"
      ],
      "metadata": {
        "colab": {
          "base_uri": "https://localhost:8080/"
        },
        "id": "z7g_x_ho-1Vi",
        "outputId": "acb27d9d-65e1-43b0-e0fd-829279728155"
      },
      "execution_count": null,
      "outputs": [
        {
          "output_type": "execute_result",
          "data": {
            "text/plain": [
              "[17, 28, 50]"
            ]
          },
          "metadata": {},
          "execution_count": 21
        }
      ]
    },
    {
      "cell_type": "markdown",
      "source": [
        "**Q10.What is the difference between map(), reduce() and filter() function in python?**\n",
        "      - Filter : It is used to simply filter the elements from a diverse set of elements based on the given function\n",
        "      syntax >> filter(function,sequence)\n",
        "       for Ex:-"
      ],
      "metadata": {
        "id": "-wnDHkvJ_Tsg"
      }
    },
    {
      "cell_type": "code",
      "source": [
        "#Filter\n",
        "numbers = [1,2,3,4,5,6,7,8,9,10,11,12,13]\n",
        "def odd(n):\n",
        "  return n%2 != 0\n",
        "is_odd = list(filter(odd,numbers))\n"
      ],
      "metadata": {
        "id": "zSaPDr5p-1rK"
      },
      "execution_count": null,
      "outputs": []
    },
    {
      "cell_type": "code",
      "source": [
        "is_odd"
      ],
      "metadata": {
        "colab": {
          "base_uri": "https://localhost:8080/"
        },
        "id": "UqhGTYBZ-12U",
        "outputId": "7e4f339a-deb7-4fb2-f8e5-0ceb8c0be7b4"
      },
      "execution_count": null,
      "outputs": [
        {
          "output_type": "execute_result",
          "data": {
            "text/plain": [
              "[1, 3, 5, 7, 9, 11, 13]"
            ]
          },
          "metadata": {},
          "execution_count": 25
        }
      ]
    },
    {
      "cell_type": "code",
      "source": [
        "numbers = [1,2,3,4,5,6,7,8,9,10,11,12,13]\n",
        "is_even = list(filter(lambda x: x%2 == 0,numbers))"
      ],
      "metadata": {
        "id": "Rt3S8n9S-1_M"
      },
      "execution_count": null,
      "outputs": []
    },
    {
      "cell_type": "code",
      "source": [
        "is_even"
      ],
      "metadata": {
        "colab": {
          "base_uri": "https://localhost:8080/"
        },
        "id": "ifKhr-oY-2Go",
        "outputId": "c18794cd-ddb9-40a2-8163-104bd2b55787"
      },
      "execution_count": null,
      "outputs": [
        {
          "output_type": "execute_result",
          "data": {
            "text/plain": [
              "[2, 4, 6, 8, 10, 12]"
            ]
          },
          "metadata": {},
          "execution_count": 27
        }
      ]
    },
    {
      "cell_type": "code",
      "source": [
        "#Map\n",
        "# Map >> It is used when you want to apply any particular operation on the iterables/sequence such as: multiply, power, add, subtract, average etc. then\n",
        "# map function is very useful.\n",
        "# syntax of Map function >> map(function,sequence)\n",
        "\n",
        "num = [1,2,3,4,5,6,]\n",
        "doubles = list(map(lambda x : x+2,num))"
      ],
      "metadata": {
        "id": "qpLs4Mwn-2Ns"
      },
      "execution_count": null,
      "outputs": []
    },
    {
      "cell_type": "code",
      "source": [
        "doubles"
      ],
      "metadata": {
        "colab": {
          "base_uri": "https://localhost:8080/"
        },
        "id": "G_L1SiYV-2UA",
        "outputId": "3b6ecf41-933d-4f19-afc9-db7e85b7503b"
      },
      "execution_count": null,
      "outputs": [
        {
          "output_type": "execute_result",
          "data": {
            "text/plain": [
              "[3, 4, 5, 6, 7, 8]"
            ]
          },
          "metadata": {},
          "execution_count": 29
        }
      ]
    },
    {
      "cell_type": "code",
      "source": [
        "#Reduce\n",
        "# It takes all the maped or any other elements and summerize it in a most shortest form\n",
        "# syntax of reduce function >> reduce(function,sequence)"
      ],
      "metadata": {
        "id": "N1QRMRdj-2Z6"
      },
      "execution_count": null,
      "outputs": []
    },
    {
      "cell_type": "code",
      "source": [
        "from functools import reduce"
      ],
      "metadata": {
        "id": "62z8PPqa-2f6"
      },
      "execution_count": null,
      "outputs": []
    },
    {
      "cell_type": "code",
      "source": [
        "num1 = [4,5,6,7,8,9,]\n",
        "sum = reduce(lambda a,b : a+b,num1)"
      ],
      "metadata": {
        "id": "F1qYbaDH-2ut"
      },
      "execution_count": null,
      "outputs": []
    },
    {
      "cell_type": "code",
      "source": [
        "sum"
      ],
      "metadata": {
        "colab": {
          "base_uri": "https://localhost:8080/"
        },
        "id": "Ad3zdXka-20K",
        "outputId": "620e3823-9cb5-4ad1-addc-d46016da87c2"
      },
      "execution_count": null,
      "outputs": [
        {
          "output_type": "execute_result",
          "data": {
            "text/plain": [
              "39"
            ]
          },
          "metadata": {},
          "execution_count": 40
        }
      ]
    },
    {
      "cell_type": "code",
      "source": [
        "list1 = [47,11,42,13]\n",
        "sum_operation = reduce(lambda x,y : x+y,list1)"
      ],
      "metadata": {
        "id": "2UbzKt1CNBjA"
      },
      "execution_count": null,
      "outputs": []
    },
    {
      "cell_type": "code",
      "source": [
        "sum_operation"
      ],
      "metadata": {
        "colab": {
          "base_uri": "https://localhost:8080/"
        },
        "id": "Jx9q_uqMNBql",
        "outputId": "de229df6-96fc-4e13-e506-ea412e9db96c"
      },
      "execution_count": null,
      "outputs": [
        {
          "output_type": "execute_result",
          "data": {
            "text/plain": [
              "113"
            ]
          },
          "metadata": {},
          "execution_count": 46
        }
      ]
    },
    {
      "cell_type": "markdown",
      "source": [
        "#                                      **PRACTICAL QUESTION**\n",
        "\n"
      ],
      "metadata": {
        "id": "e9_rA2IjW7Dc"
      }
    },
    {
      "cell_type": "markdown",
      "source": [
        "**Q1. Write a python function that takes a list of numbers as input and returns the sum of all even numbers in list.**"
      ],
      "metadata": {
        "id": "RK8wRl82XNdG"
      }
    },
    {
      "cell_type": "code",
      "source": [
        "list1 = [1,2,3,4,5,6,7,8,10,11,12,13,14]\n",
        "def even_sum(list1):\n",
        "  sum = 0\n",
        "  for i in list1:\n",
        "    if i%2 == 0:\n",
        "      sum = sum+i\n",
        "  return sum"
      ],
      "metadata": {
        "id": "7it_M01TNBxh"
      },
      "execution_count": null,
      "outputs": []
    },
    {
      "cell_type": "code",
      "source": [
        "a = even_sum(list1)"
      ],
      "metadata": {
        "id": "j-2jhQ0X3PNs"
      },
      "execution_count": null,
      "outputs": []
    },
    {
      "cell_type": "code",
      "source": [
        "print(a)"
      ],
      "metadata": {
        "colab": {
          "base_uri": "https://localhost:8080/"
        },
        "id": "z59fzACN3PcP",
        "outputId": "f25043ec-5a8b-474f-b1e3-249b0f104d1d"
      },
      "execution_count": null,
      "outputs": [
        {
          "output_type": "stream",
          "name": "stdout",
          "text": [
            "56\n"
          ]
        }
      ]
    },
    {
      "cell_type": "markdown",
      "source": [
        "**Q2. Create a python function that accepts a string and returns the reverse of that string.**"
      ],
      "metadata": {
        "id": "U2Out6xMf3JE"
      }
    },
    {
      "cell_type": "code",
      "source": [
        "a = input(\"Enter a string:\")\n",
        "for i in range(len(a)-1,-1,-1):\n",
        "  print(a[i],end=\"\")"
      ],
      "metadata": {
        "colab": {
          "base_uri": "https://localhost:8080/"
        },
        "id": "T4IyUFtxoEK2",
        "outputId": "23aa81ca-2423-496e-9b81-3d37ff36d8aa"
      },
      "execution_count": null,
      "outputs": [
        {
          "output_type": "stream",
          "name": "stdout",
          "text": [
            "Enter a string:Himesh\n",
            "hsemiH"
          ]
        }
      ]
    },
    {
      "cell_type": "code",
      "source": [
        "a"
      ],
      "metadata": {
        "colab": {
          "base_uri": "https://localhost:8080/",
          "height": 35
        },
        "id": "VSROWd6ZoEXb",
        "outputId": "78d4a2f3-a106-4870-82a7-de460027af71"
      },
      "execution_count": null,
      "outputs": [
        {
          "output_type": "execute_result",
          "data": {
            "text/plain": [
              "'Manish'"
            ],
            "application/vnd.google.colaboratory.intrinsic+json": {
              "type": "string"
            }
          },
          "metadata": {},
          "execution_count": 32
        }
      ]
    },
    {
      "cell_type": "markdown",
      "source": [
        "**Q3. Implement a python function that takes a list of integar and returns a new list containing the squares of each numbers.**"
      ],
      "metadata": {
        "id": "9rxKU0NnpfRi"
      }
    },
    {
      "cell_type": "code",
      "source": [
        "list_1 = [1,2,3,4,5,6,7,8]\n",
        "def square(list_1):\n",
        "  square = []\n",
        "  for i in list_1:\n",
        "    square.append(i**2)\n",
        "  return square"
      ],
      "metadata": {
        "id": "foM1CjyFoEgj"
      },
      "execution_count": null,
      "outputs": []
    },
    {
      "cell_type": "code",
      "source": [
        "a = square(list_1)"
      ],
      "metadata": {
        "id": "ft34hfI9oEoM"
      },
      "execution_count": null,
      "outputs": []
    },
    {
      "cell_type": "code",
      "source": [
        "a"
      ],
      "metadata": {
        "colab": {
          "base_uri": "https://localhost:8080/"
        },
        "id": "gxAYhOTcoEux",
        "outputId": "2cdb7874-1282-4afc-b356-a9425bc4712f"
      },
      "execution_count": null,
      "outputs": [
        {
          "output_type": "execute_result",
          "data": {
            "text/plain": [
              "[1, 4, 9, 16, 25, 36, 49, 64]"
            ]
          },
          "metadata": {},
          "execution_count": 36
        }
      ]
    },
    {
      "cell_type": "markdown",
      "source": [
        "**Q4. Write a function that checks if a given number is prime or not from 1 to 200.**"
      ],
      "metadata": {
        "id": "Vi0VB6Oeqhvj"
      }
    },
    {
      "cell_type": "code",
      "source": [
        "number = int(input(\"Enter a Number\"))\n",
        "if number == 1:\n",
        "  print(\"it is not a prime number\")\n",
        "if number >1:\n",
        "  for i in range(2,number):\n",
        "    if number % i == 0:\n",
        "      print(\"it is not a prime number\")\n",
        "      break\n",
        "else:\n",
        "    print(\"it is a prime number:\")\n",
        "\n"
      ],
      "metadata": {
        "colab": {
          "base_uri": "https://localhost:8080/"
        },
        "id": "xxsdfgJRq9RU",
        "outputId": "92103060-c52b-42d6-bb7b-776c446233d0"
      },
      "execution_count": null,
      "outputs": [
        {
          "output_type": "stream",
          "name": "stdout",
          "text": [
            "Enter a Number56\n",
            "it is not a prime number\n"
          ]
        }
      ]
    },
    {
      "cell_type": "markdown",
      "source": [
        "**Q5. Create an iterator class in python that generate the fibonacci sequence up to a specified number of terms.**"
      ],
      "metadata": {
        "id": "R5uESbkAPLqg"
      }
    },
    {
      "cell_type": "code",
      "source": [
        "n = int(input(\"Enter a number:\"))\n",
        "a = 0\n",
        "b = 1\n",
        "c = 0\n",
        "while c <= n:\n",
        "  print(c)\n",
        "  a = b\n",
        "  b = c\n",
        "  c = a + b\n"
      ],
      "metadata": {
        "colab": {
          "base_uri": "https://localhost:8080/"
        },
        "id": "LWNNfBN7q9r1",
        "outputId": "988e8a36-05d6-45a2-b2f9-6c90f3718b47"
      },
      "execution_count": null,
      "outputs": [
        {
          "output_type": "stream",
          "name": "stdout",
          "text": [
            "Enter a number:5\n",
            "0\n",
            "1\n",
            "1\n",
            "2\n",
            "3\n",
            "5\n"
          ]
        }
      ]
    },
    {
      "cell_type": "markdown",
      "source": [
        "**Q6. Write a generator function in python that yields the powers of 2 up to a given exponent.**"
      ],
      "metadata": {
        "id": "T0KzMvD3WW_E"
      }
    },
    {
      "cell_type": "code",
      "source": [
        "def power_of_two(n):\n",
        "  for i in range(n):\n",
        "    yield(i**2)\n"
      ],
      "metadata": {
        "id": "IWE_du_wq9yL"
      },
      "execution_count": null,
      "outputs": []
    },
    {
      "cell_type": "code",
      "source": [
        "power = power_of_two(5)"
      ],
      "metadata": {
        "id": "q-QgtJ_sq93S"
      },
      "execution_count": null,
      "outputs": []
    },
    {
      "cell_type": "code",
      "source": [
        "next(power)"
      ],
      "metadata": {
        "id": "iFZ2vBUkq97-",
        "colab": {
          "base_uri": "https://localhost:8080/"
        },
        "outputId": "d9ed4232-a642-424d-8bd7-af2e3872e2df"
      },
      "execution_count": null,
      "outputs": [
        {
          "output_type": "execute_result",
          "data": {
            "text/plain": [
              "0"
            ]
          },
          "metadata": {},
          "execution_count": 11
        }
      ]
    },
    {
      "cell_type": "code",
      "source": [
        "next(power)"
      ],
      "metadata": {
        "id": "6cz0HufDq-BV",
        "colab": {
          "base_uri": "https://localhost:8080/"
        },
        "outputId": "105c4d30-927c-446f-862b-40ffb4f61215"
      },
      "execution_count": null,
      "outputs": [
        {
          "output_type": "execute_result",
          "data": {
            "text/plain": [
              "1"
            ]
          },
          "metadata": {},
          "execution_count": 12
        }
      ]
    },
    {
      "cell_type": "code",
      "source": [
        "next(power)"
      ],
      "metadata": {
        "id": "dLKVrDfWq-F-",
        "colab": {
          "base_uri": "https://localhost:8080/"
        },
        "outputId": "8abf58ec-05ae-4ece-e200-b2086d9a66d3"
      },
      "execution_count": null,
      "outputs": [
        {
          "output_type": "execute_result",
          "data": {
            "text/plain": [
              "4"
            ]
          },
          "metadata": {},
          "execution_count": 13
        }
      ]
    },
    {
      "cell_type": "code",
      "source": [
        "next(power)"
      ],
      "metadata": {
        "id": "_AcMuIbPq-Kk",
        "colab": {
          "base_uri": "https://localhost:8080/"
        },
        "outputId": "a0a5dd61-dcdd-45f9-c50f-6d21f4ed3f89"
      },
      "execution_count": null,
      "outputs": [
        {
          "output_type": "execute_result",
          "data": {
            "text/plain": [
              "9"
            ]
          },
          "metadata": {},
          "execution_count": 14
        }
      ]
    },
    {
      "cell_type": "code",
      "source": [
        "next(power)"
      ],
      "metadata": {
        "id": "l8vY4Y5Hq-O3",
        "colab": {
          "base_uri": "https://localhost:8080/"
        },
        "outputId": "79b73e80-45b9-42aa-961e-f65cb487e918"
      },
      "execution_count": null,
      "outputs": [
        {
          "output_type": "execute_result",
          "data": {
            "text/plain": [
              "16"
            ]
          },
          "metadata": {},
          "execution_count": 15
        }
      ]
    },
    {
      "cell_type": "markdown",
      "source": [
        "**Q7. Implementa generator function thar reads a file line by line and yields each line as a string.**"
      ],
      "metadata": {
        "id": "7DXOMlH7IkmW"
      }
    },
    {
      "cell_type": "markdown",
      "source": [
        "**Q8. Use a lambda function in python to sort a list of tuples based on the second element of each tuple**"
      ],
      "metadata": {
        "id": "92x3Mx-OUL7G"
      }
    },
    {
      "cell_type": "code",
      "source": [
        "My_list = ((\"bhabna\",30),(\"abala\",25),(\"chubham\",19))\n",
        "print(sorted(My_list, key = lambda x : x[1]))\n"
      ],
      "metadata": {
        "id": "fcrMobipq-ja",
        "colab": {
          "base_uri": "https://localhost:8080/"
        },
        "outputId": "f2b93669-2dd7-40c1-b16b-7145a67b68a8"
      },
      "execution_count": null,
      "outputs": [
        {
          "output_type": "stream",
          "name": "stdout",
          "text": [
            "[('chubham', 19), ('abala', 25), ('bhabna', 30)]\n"
          ]
        }
      ]
    },
    {
      "cell_type": "markdown",
      "source": [
        "**Q9. Write a python programm that uses map() to convert a list of temperatures from celsius to fahrenheit.**\n"
      ],
      "metadata": {
        "id": "8bblpaawtWLl"
      }
    },
    {
      "cell_type": "code",
      "source": [
        "T = [39.2, 36.5, 37.3, 38, 37.8]\n",
        "def far(T):\n",
        "  return (T*9/5)+32\n",
        "list(map(far,T))"
      ],
      "metadata": {
        "id": "6cWe3wy8q-r3",
        "colab": {
          "base_uri": "https://localhost:8080/"
        },
        "outputId": "1aa93c58-3cfe-4c28-efcb-587bf75cae55"
      },
      "execution_count": null,
      "outputs": [
        {
          "output_type": "execute_result",
          "data": {
            "text/plain": [
              "[102.56, 97.7, 99.14, 100.4, 100.03999999999999]"
            ]
          },
          "metadata": {},
          "execution_count": 38
        }
      ]
    },
    {
      "cell_type": "markdown",
      "source": [
        "**Q10. Create a python programm that uses filter() to remove all the vowels from a given string.**"
      ],
      "metadata": {
        "id": "hHeJR548vECN"
      }
    },
    {
      "cell_type": "code",
      "source": [
        "# without Filter\n",
        "string  = input(\"enter a string\")\n",
        "vowel_string = \"aeiouAEIOU\"\n",
        "print(\"input string\",string)\n",
        "for char in string:\n",
        "  if char in vowel_string:\n",
        "    string = string.replace(char,\"\")\n",
        "print(\"output string\",string)\n",
        "\n",
        "\n",
        "\n",
        "\n",
        "\n",
        "\n"
      ],
      "metadata": {
        "id": "LapYm2aSq-v2",
        "colab": {
          "base_uri": "https://localhost:8080/"
        },
        "outputId": "b5c74263-0c8b-4e02-e58b-e2e882a42b4f"
      },
      "execution_count": null,
      "outputs": [
        {
          "output_type": "stream",
          "name": "stdout",
          "text": [
            "enter a stringmy name is manish\n",
            "input string my name is manish\n",
            "output string my nm s mnsh\n"
          ]
        }
      ]
    },
    {
      "cell_type": "code",
      "source": [
        "#With Filter\n",
        "string  = (\"My name is manish\")\n",
        "def vowel(string):\n",
        "  vowel_string = \"aeiouAEIOU\"\n",
        "  for char in string:\n",
        "    if char in vowel_string:\n",
        "      string = string.replace(char,\"\")\n",
        "  return string\n"
      ],
      "metadata": {
        "id": "ns-LibU_q-7R"
      },
      "execution_count": null,
      "outputs": []
    },
    {
      "cell_type": "code",
      "source": [
        "a = list(filter(vowel,string))"
      ],
      "metadata": {
        "id": "Hnib7bwrq-_F"
      },
      "execution_count": null,
      "outputs": []
    },
    {
      "cell_type": "code",
      "source": [
        "a"
      ],
      "metadata": {
        "id": "UZQV3nWDq_DP",
        "colab": {
          "base_uri": "https://localhost:8080/"
        },
        "outputId": "cfd308a8-5053-4538-94af-af49ccfef1c7"
      },
      "execution_count": null,
      "outputs": [
        {
          "output_type": "execute_result",
          "data": {
            "text/plain": [
              "['m', 'y', ' ', 'n', 'm', ' ', 's', ' ', 'm', 'n', 's', 'h']"
            ]
          },
          "metadata": {},
          "execution_count": 53
        }
      ]
    },
    {
      "cell_type": "code",
      "source": [],
      "metadata": {
        "id": "1b-PvfYvESgY"
      },
      "execution_count": null,
      "outputs": []
    }
  ]
}